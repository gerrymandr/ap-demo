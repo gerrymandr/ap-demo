{
 "cells": [
  {
   "cell_type": "code",
   "execution_count": 1,
   "metadata": {
    "collapsed": false
   },
   "outputs": [
    {
     "data": {
      "text/plain": [
       "scipy.sparse.coo.coo_matrix"
      ]
     },
     "execution_count": 1,
     "metadata": {},
     "output_type": "execute_result"
    }
   ],
   "source": [
    "import numpy as np\n",
    "import pandas as pd\n",
    "from scipy.sparse import coo_matrix\n",
    "coo_matrix"
   ]
  },
  {
   "cell_type": "code",
   "execution_count": 2,
   "metadata": {
    "collapsed": false
   },
   "outputs": [
    {
     "name": "stdout",
     "output_type": "stream",
     "text": [
      "6991\n",
      "6517\n"
     ]
    },
    {
     "data": {
      "text/html": [
       "<div>\n",
       "<style>\n",
       "    .dataframe thead tr:only-child th {\n",
       "        text-align: right;\n",
       "    }\n",
       "\n",
       "    .dataframe thead th {\n",
       "        text-align: left;\n",
       "    }\n",
       "\n",
       "    .dataframe tbody tr th {\n",
       "        vertical-align: top;\n",
       "    }\n",
       "</style>\n",
       "<table border=\"1\" class=\"dataframe\">\n",
       "  <thead>\n",
       "    <tr style=\"text-align: right;\">\n",
       "      <th></th>\n",
       "      <th>GEOID101</th>\n",
       "      <th>GEOID102</th>\n",
       "      <th>st_geometr</th>\n",
       "    </tr>\n",
       "  </thead>\n",
       "  <tbody>\n",
       "    <tr>\n",
       "      <th>0</th>\n",
       "      <td>4200323616</td>\n",
       "      <td>4200339624</td>\n",
       "      <td>ST_MultiLineString</td>\n",
       "    </tr>\n",
       "    <tr>\n",
       "      <th>1</th>\n",
       "      <td>4200323616</td>\n",
       "      <td>4200353136</td>\n",
       "      <td>ST_MultiLineString</td>\n",
       "    </tr>\n",
       "    <tr>\n",
       "      <th>2</th>\n",
       "      <td>4200324160</td>\n",
       "      <td>4200361000</td>\n",
       "      <td>ST_MultiLineString</td>\n",
       "    </tr>\n",
       "    <tr>\n",
       "      <th>3</th>\n",
       "      <td>4200324160</td>\n",
       "      <td>4200369584</td>\n",
       "      <td>ST_MultiLineString</td>\n",
       "    </tr>\n",
       "    <tr>\n",
       "      <th>4</th>\n",
       "      <td>4200324160</td>\n",
       "      <td>4200369776</td>\n",
       "      <td>ST_MultiLineString</td>\n",
       "    </tr>\n",
       "    <tr>\n",
       "      <th>5</th>\n",
       "      <td>4200325400</td>\n",
       "      <td>4200327608</td>\n",
       "      <td>ST_MultiLineString</td>\n",
       "    </tr>\n",
       "    <tr>\n",
       "      <th>6</th>\n",
       "      <td>4200325400</td>\n",
       "      <td>4200332832</td>\n",
       "      <td>ST_MultiLineString</td>\n",
       "    </tr>\n",
       "    <tr>\n",
       "      <th>7</th>\n",
       "      <td>4200325400</td>\n",
       "      <td>4200376104</td>\n",
       "      <td>ST_MultiLineString</td>\n",
       "    </tr>\n",
       "    <tr>\n",
       "      <th>8</th>\n",
       "      <td>4200325400</td>\n",
       "      <td>4200382800</td>\n",
       "      <td>ST_MultiLineString</td>\n",
       "    </tr>\n",
       "    <tr>\n",
       "      <th>9</th>\n",
       "      <td>4200325400</td>\n",
       "      <td>4201914320</td>\n",
       "      <td>ST_MultiLineString</td>\n",
       "    </tr>\n",
       "    <tr>\n",
       "      <th>10</th>\n",
       "      <td>4200325400</td>\n",
       "      <td>4201910000</td>\n",
       "      <td>ST_MultiLineString</td>\n",
       "    </tr>\n",
       "    <tr>\n",
       "      <th>11</th>\n",
       "      <td>4200325904</td>\n",
       "      <td>4200350784</td>\n",
       "      <td>ST_MultiLineString</td>\n",
       "    </tr>\n",
       "    <tr>\n",
       "      <th>12</th>\n",
       "      <td>4200325904</td>\n",
       "      <td>4200355016</td>\n",
       "      <td>ST_MultiLineString</td>\n",
       "    </tr>\n",
       "    <tr>\n",
       "      <th>13</th>\n",
       "      <td>4200325904</td>\n",
       "      <td>4212565376</td>\n",
       "      <td>ST_MultiLineString</td>\n",
       "    </tr>\n",
       "    <tr>\n",
       "      <th>14</th>\n",
       "      <td>4200325904</td>\n",
       "      <td>4200732392</td>\n",
       "      <td>ST_LineString</td>\n",
       "    </tr>\n",
       "    <tr>\n",
       "      <th>15</th>\n",
       "      <td>4200325904</td>\n",
       "      <td>4200735640</td>\n",
       "      <td>ST_MultiLineString</td>\n",
       "    </tr>\n",
       "    <tr>\n",
       "      <th>16</th>\n",
       "      <td>4200325904</td>\n",
       "      <td>4200736776</td>\n",
       "      <td>ST_MultiLineString</td>\n",
       "    </tr>\n",
       "    <tr>\n",
       "      <th>17</th>\n",
       "      <td>4200326592</td>\n",
       "      <td>4200354816</td>\n",
       "      <td>ST_MultiLineString</td>\n",
       "    </tr>\n",
       "    <tr>\n",
       "      <th>18</th>\n",
       "      <td>4200326592</td>\n",
       "      <td>4200385184</td>\n",
       "      <td>ST_MultiLineString</td>\n",
       "    </tr>\n",
       "    <tr>\n",
       "      <th>19</th>\n",
       "      <td>4200326592</td>\n",
       "      <td>4200385188</td>\n",
       "      <td>ST_MultiLineString</td>\n",
       "    </tr>\n",
       "    <tr>\n",
       "      <th>20</th>\n",
       "      <td>4200326896</td>\n",
       "      <td>4200337955</td>\n",
       "      <td>ST_MultiLineString</td>\n",
       "    </tr>\n",
       "    <tr>\n",
       "      <th>21</th>\n",
       "      <td>4200326896</td>\n",
       "      <td>4200382848</td>\n",
       "      <td>ST_MultiLineString</td>\n",
       "    </tr>\n",
       "    <tr>\n",
       "      <th>22</th>\n",
       "      <td>4200326896</td>\n",
       "      <td>4212511424</td>\n",
       "      <td>ST_MultiLineString</td>\n",
       "    </tr>\n",
       "    <tr>\n",
       "      <th>23</th>\n",
       "      <td>4200326896</td>\n",
       "      <td>4212550408</td>\n",
       "      <td>ST_MultiLineString</td>\n",
       "    </tr>\n",
       "    <tr>\n",
       "      <th>24</th>\n",
       "      <td>4200326896</td>\n",
       "      <td>4212553496</td>\n",
       "      <td>ST_MultiLineString</td>\n",
       "    </tr>\n",
       "    <tr>\n",
       "      <th>25</th>\n",
       "      <td>4200326896</td>\n",
       "      <td>4212578432</td>\n",
       "      <td>ST_MultiLineString</td>\n",
       "    </tr>\n",
       "    <tr>\n",
       "      <th>26</th>\n",
       "      <td>4200326896</td>\n",
       "      <td>4212966376</td>\n",
       "      <td>ST_MultiLineString</td>\n",
       "    </tr>\n",
       "    <tr>\n",
       "      <th>27</th>\n",
       "      <td>4200327120</td>\n",
       "      <td>4200332624</td>\n",
       "      <td>ST_MultiLineString</td>\n",
       "    </tr>\n",
       "    <tr>\n",
       "      <th>28</th>\n",
       "      <td>4200327120</td>\n",
       "      <td>4200336808</td>\n",
       "      <td>ST_MultiLineString</td>\n",
       "    </tr>\n",
       "    <tr>\n",
       "      <th>29</th>\n",
       "      <td>4200327120</td>\n",
       "      <td>4200356384</td>\n",
       "      <td>ST_MultiLineString</td>\n",
       "    </tr>\n",
       "    <tr>\n",
       "      <th>...</th>\n",
       "      <td>...</td>\n",
       "      <td>...</td>\n",
       "      <td>...</td>\n",
       "    </tr>\n",
       "    <tr>\n",
       "      <th>6957</th>\n",
       "      <td>4210927696</td>\n",
       "      <td>4210981320</td>\n",
       "      <td>ST_MultiLineString</td>\n",
       "    </tr>\n",
       "    <tr>\n",
       "      <th>6958</th>\n",
       "      <td>4210927440</td>\n",
       "      <td>4210959504</td>\n",
       "      <td>ST_MultiLineString</td>\n",
       "    </tr>\n",
       "    <tr>\n",
       "      <th>6959</th>\n",
       "      <td>4210927440</td>\n",
       "      <td>4210983808</td>\n",
       "      <td>ST_MultiLineString</td>\n",
       "    </tr>\n",
       "    <tr>\n",
       "      <th>6960</th>\n",
       "      <td>4210927440</td>\n",
       "      <td>4210949016</td>\n",
       "      <td>ST_MultiLineString</td>\n",
       "    </tr>\n",
       "    <tr>\n",
       "      <th>6961</th>\n",
       "      <td>4210927440</td>\n",
       "      <td>4210948960</td>\n",
       "      <td>ST_MultiLineString</td>\n",
       "    </tr>\n",
       "    <tr>\n",
       "      <th>6962</th>\n",
       "      <td>4210927440</td>\n",
       "      <td>4210981320</td>\n",
       "      <td>ST_MultiLineString</td>\n",
       "    </tr>\n",
       "    <tr>\n",
       "      <th>6963</th>\n",
       "      <td>4210912672</td>\n",
       "      <td>4210959504</td>\n",
       "      <td>ST_MultiLineString</td>\n",
       "    </tr>\n",
       "    <tr>\n",
       "      <th>6964</th>\n",
       "      <td>4210912672</td>\n",
       "      <td>4210981320</td>\n",
       "      <td>ST_MultiLineString</td>\n",
       "    </tr>\n",
       "    <tr>\n",
       "      <th>6965</th>\n",
       "      <td>4210912672</td>\n",
       "      <td>4210978408</td>\n",
       "      <td>ST_MultiLineString</td>\n",
       "    </tr>\n",
       "    <tr>\n",
       "      <th>6966</th>\n",
       "      <td>4210912060</td>\n",
       "      <td>4211942960</td>\n",
       "      <td>ST_MultiLineString</td>\n",
       "    </tr>\n",
       "    <tr>\n",
       "      <th>6967</th>\n",
       "      <td>4210912060</td>\n",
       "      <td>4211943368</td>\n",
       "      <td>ST_MultiLineString</td>\n",
       "    </tr>\n",
       "    <tr>\n",
       "      <th>6968</th>\n",
       "      <td>4210912060</td>\n",
       "      <td>4210949016</td>\n",
       "      <td>ST_MultiLineString</td>\n",
       "    </tr>\n",
       "    <tr>\n",
       "      <th>6969</th>\n",
       "      <td>4210912060</td>\n",
       "      <td>4210937448</td>\n",
       "      <td>ST_MultiLineString</td>\n",
       "    </tr>\n",
       "    <tr>\n",
       "      <th>6970</th>\n",
       "      <td>4210912060</td>\n",
       "      <td>4210927440</td>\n",
       "      <td>ST_MultiLineString</td>\n",
       "    </tr>\n",
       "    <tr>\n",
       "      <th>6972</th>\n",
       "      <td>4210904736</td>\n",
       "      <td>4210983808</td>\n",
       "      <td>ST_MultiLineString</td>\n",
       "    </tr>\n",
       "    <tr>\n",
       "      <th>6973</th>\n",
       "      <td>4210904736</td>\n",
       "      <td>4210927440</td>\n",
       "      <td>ST_MultiLineString</td>\n",
       "    </tr>\n",
       "    <tr>\n",
       "      <th>6974</th>\n",
       "      <td>4210904736</td>\n",
       "      <td>4210912060</td>\n",
       "      <td>ST_LineString</td>\n",
       "    </tr>\n",
       "    <tr>\n",
       "      <th>6975</th>\n",
       "      <td>4210904736</td>\n",
       "      <td>4210904848</td>\n",
       "      <td>ST_MultiLineString</td>\n",
       "    </tr>\n",
       "    <tr>\n",
       "      <th>6976</th>\n",
       "      <td>4210904736</td>\n",
       "      <td>4210972856</td>\n",
       "      <td>ST_MultiLineString</td>\n",
       "    </tr>\n",
       "    <tr>\n",
       "      <th>6977</th>\n",
       "      <td>4210900316</td>\n",
       "      <td>4211932952</td>\n",
       "      <td>ST_MultiLineString</td>\n",
       "    </tr>\n",
       "    <tr>\n",
       "      <th>6978</th>\n",
       "      <td>4210900316</td>\n",
       "      <td>4211942960</td>\n",
       "      <td>ST_MultiLineString</td>\n",
       "    </tr>\n",
       "    <tr>\n",
       "      <th>6979</th>\n",
       "      <td>4210900316</td>\n",
       "      <td>4210912060</td>\n",
       "      <td>ST_MultiLineString</td>\n",
       "    </tr>\n",
       "    <tr>\n",
       "      <th>6980</th>\n",
       "      <td>4210900316</td>\n",
       "      <td>4210904736</td>\n",
       "      <td>ST_MultiLineString</td>\n",
       "    </tr>\n",
       "    <tr>\n",
       "      <th>6981</th>\n",
       "      <td>4210900316</td>\n",
       "      <td>4210972856</td>\n",
       "      <td>ST_MultiLineString</td>\n",
       "    </tr>\n",
       "    <tr>\n",
       "      <th>6983</th>\n",
       "      <td>4210982464</td>\n",
       "      <td>4210983808</td>\n",
       "      <td>ST_MultiLineString</td>\n",
       "    </tr>\n",
       "    <tr>\n",
       "      <th>6984</th>\n",
       "      <td>4210982464</td>\n",
       "      <td>4211932952</td>\n",
       "      <td>ST_MultiLineString</td>\n",
       "    </tr>\n",
       "    <tr>\n",
       "      <th>6986</th>\n",
       "      <td>4210978408</td>\n",
       "      <td>4210981320</td>\n",
       "      <td>ST_MultiLineString</td>\n",
       "    </tr>\n",
       "    <tr>\n",
       "      <th>6987</th>\n",
       "      <td>4210972856</td>\n",
       "      <td>4210983808</td>\n",
       "      <td>ST_MultiLineString</td>\n",
       "    </tr>\n",
       "    <tr>\n",
       "      <th>6988</th>\n",
       "      <td>4210972856</td>\n",
       "      <td>4211932952</td>\n",
       "      <td>ST_MultiLineString</td>\n",
       "    </tr>\n",
       "    <tr>\n",
       "      <th>6989</th>\n",
       "      <td>4210972856</td>\n",
       "      <td>4210982464</td>\n",
       "      <td>ST_MultiLineString</td>\n",
       "    </tr>\n",
       "  </tbody>\n",
       "</table>\n",
       "<p>6517 rows × 3 columns</p>\n",
       "</div>"
      ],
      "text/plain": [
       "        GEOID101    GEOID102          st_geometr\n",
       "0     4200323616  4200339624  ST_MultiLineString\n",
       "1     4200323616  4200353136  ST_MultiLineString\n",
       "2     4200324160  4200361000  ST_MultiLineString\n",
       "3     4200324160  4200369584  ST_MultiLineString\n",
       "4     4200324160  4200369776  ST_MultiLineString\n",
       "5     4200325400  4200327608  ST_MultiLineString\n",
       "6     4200325400  4200332832  ST_MultiLineString\n",
       "7     4200325400  4200376104  ST_MultiLineString\n",
       "8     4200325400  4200382800  ST_MultiLineString\n",
       "9     4200325400  4201914320  ST_MultiLineString\n",
       "10    4200325400  4201910000  ST_MultiLineString\n",
       "11    4200325904  4200350784  ST_MultiLineString\n",
       "12    4200325904  4200355016  ST_MultiLineString\n",
       "13    4200325904  4212565376  ST_MultiLineString\n",
       "14    4200325904  4200732392       ST_LineString\n",
       "15    4200325904  4200735640  ST_MultiLineString\n",
       "16    4200325904  4200736776  ST_MultiLineString\n",
       "17    4200326592  4200354816  ST_MultiLineString\n",
       "18    4200326592  4200385184  ST_MultiLineString\n",
       "19    4200326592  4200385188  ST_MultiLineString\n",
       "20    4200326896  4200337955  ST_MultiLineString\n",
       "21    4200326896  4200382848  ST_MultiLineString\n",
       "22    4200326896  4212511424  ST_MultiLineString\n",
       "23    4200326896  4212550408  ST_MultiLineString\n",
       "24    4200326896  4212553496  ST_MultiLineString\n",
       "25    4200326896  4212578432  ST_MultiLineString\n",
       "26    4200326896  4212966376  ST_MultiLineString\n",
       "27    4200327120  4200332624  ST_MultiLineString\n",
       "28    4200327120  4200336808  ST_MultiLineString\n",
       "29    4200327120  4200356384  ST_MultiLineString\n",
       "...          ...         ...                 ...\n",
       "6957  4210927696  4210981320  ST_MultiLineString\n",
       "6958  4210927440  4210959504  ST_MultiLineString\n",
       "6959  4210927440  4210983808  ST_MultiLineString\n",
       "6960  4210927440  4210949016  ST_MultiLineString\n",
       "6961  4210927440  4210948960  ST_MultiLineString\n",
       "6962  4210927440  4210981320  ST_MultiLineString\n",
       "6963  4210912672  4210959504  ST_MultiLineString\n",
       "6964  4210912672  4210981320  ST_MultiLineString\n",
       "6965  4210912672  4210978408  ST_MultiLineString\n",
       "6966  4210912060  4211942960  ST_MultiLineString\n",
       "6967  4210912060  4211943368  ST_MultiLineString\n",
       "6968  4210912060  4210949016  ST_MultiLineString\n",
       "6969  4210912060  4210937448  ST_MultiLineString\n",
       "6970  4210912060  4210927440  ST_MultiLineString\n",
       "6972  4210904736  4210983808  ST_MultiLineString\n",
       "6973  4210904736  4210927440  ST_MultiLineString\n",
       "6974  4210904736  4210912060       ST_LineString\n",
       "6975  4210904736  4210904848  ST_MultiLineString\n",
       "6976  4210904736  4210972856  ST_MultiLineString\n",
       "6977  4210900316  4211932952  ST_MultiLineString\n",
       "6978  4210900316  4211942960  ST_MultiLineString\n",
       "6979  4210900316  4210912060  ST_MultiLineString\n",
       "6980  4210900316  4210904736  ST_MultiLineString\n",
       "6981  4210900316  4210972856  ST_MultiLineString\n",
       "6983  4210982464  4210983808  ST_MultiLineString\n",
       "6984  4210982464  4211932952  ST_MultiLineString\n",
       "6986  4210978408  4210981320  ST_MultiLineString\n",
       "6987  4210972856  4210983808  ST_MultiLineString\n",
       "6988  4210972856  4211932952  ST_MultiLineString\n",
       "6989  4210972856  4210982464  ST_MultiLineString\n",
       "\n",
       "[6517 rows x 3 columns]"
      ]
     },
     "execution_count": 2,
     "metadata": {},
     "output_type": "execute_result"
    }
   ],
   "source": [
    "df = pd.read_csv(\"PA-MDCS-graph.csv\")\n",
    "#df['GEOID101'] = np.array(df['GEOID101'],dtype=np.int64)\n",
    "#df['GEOID102'] = np.array(df['GEOID102'],dtype=np.int64)\n",
    "print len(df)\n",
    "df = df.dropna()\n",
    "df.GEOID102 = df.GEOID102.astype(np.int64())\n",
    "print len(df)\n",
    "df"
   ]
  },
  {
   "cell_type": "code",
   "execution_count": 3,
   "metadata": {
    "collapsed": false
   },
   "outputs": [
    {
     "data": {
      "text/plain": [
       "4200369776"
      ]
     },
     "execution_count": 3,
     "metadata": {},
     "output_type": "execute_result"
    }
   ],
   "source": [
    "df.iloc[4,1]"
   ]
  },
  {
   "cell_type": "code",
   "execution_count": 4,
   "metadata": {
    "collapsed": false
   },
   "outputs": [],
   "source": [
    "nodes1 = df.iloc[:,0].unique()\n",
    "nodes2 = df.iloc[:,1].unique()\n",
    "nodes = set(nodes1.tolist()+nodes2.tolist())"
   ]
  },
  {
   "cell_type": "code",
   "execution_count": 5,
   "metadata": {
    "collapsed": false
   },
   "outputs": [
    {
     "data": {
      "text/plain": [
       "2574"
      ]
     },
     "execution_count": 5,
     "metadata": {},
     "output_type": "execute_result"
    }
   ],
   "source": [
    "len(nodes)"
   ]
  },
  {
   "cell_type": "code",
   "execution_count": 6,
   "metadata": {
    "collapsed": true
   },
   "outputs": [],
   "source": [
    "import csv\n",
    "import os"
   ]
  },
  {
   "cell_type": "code",
   "execution_count": 7,
   "metadata": {
    "collapsed": false
   },
   "outputs": [],
   "source": [
    "os.getcwd()\n",
    "with open('../list_of_precincts.txt','r') as f:\n",
    "    reader = csv.reader(f)\n",
    "    a = list(reader)\n",
    "plist = [b[0].strip() for b in a]\n"
   ]
  },
  {
   "cell_type": "code",
   "execution_count": 8,
   "metadata": {
    "collapsed": false
   },
   "outputs": [
    {
     "data": {
      "text/plain": [
       "3"
      ]
     },
     "execution_count": 8,
     "metadata": {},
     "output_type": "execute_result"
    }
   ],
   "source": [
    "dbf = open('../data/Penn MCDS Data/MCDS.dbf','r').read()\n",
    "\n",
    "dbf[4000:40020]\n",
    "out = dbf.rsplit(\"Findlay\")\n",
    "len(out)\n"
   ]
  },
  {
   "cell_type": "code",
   "execution_count": 9,
   "metadata": {
    "collapsed": false
   },
   "outputs": [],
   "source": [
    "geoid_d = {}\n",
    "import re\n",
    "dbfu = dbf.upper()\n",
    "for precinct in plist:\n",
    "#    print precinct\n",
    "    #out = dbfu.rsplit(precinct.upper() + '    ')\n",
    "    out = re.split('([0-9])' + precinct.upper() + '    ', dbfu)\n",
    "    if len(out) != 1:\n",
    "        geoid_d[precinct] = out[0][-9:] + out[1][0:2]\n",
    "    else:\n",
    "        print 'precinct ' + precinct + ' not found'"
   ]
  },
  {
   "cell_type": "code",
   "execution_count": 10,
   "metadata": {
    "collapsed": false
   },
   "outputs": [
    {
     "name": "stdout",
     "output_type": "stream",
     "text": [
      "4202985352\n"
     ]
    }
   ],
   "source": [
    "aa = dbfu.rsplit(precinct.upper())\n",
    "print aa[0][-10:]\n"
   ]
  },
  {
   "cell_type": "code",
   "execution_count": 11,
   "metadata": {
    "collapsed": false
   },
   "outputs": [
    {
     "name": "stdout",
     "output_type": "stream",
     "text": [
      "0\n"
     ]
    },
    {
     "data": {
      "text/plain": [
       "'West Whiteland'"
      ]
     },
     "execution_count": 11,
     "metadata": {},
     "output_type": "execute_result"
    }
   ],
   "source": [
    "geo_id_rev = {int(vals): keys for keys, vals in geoid_d.iteritems()}\n",
    "print len(geo_id_rev) - len(geoid_d)\n",
    "geo_id_rev[4202984192]"
   ]
  },
  {
   "cell_type": "code",
   "execution_count": 12,
   "metadata": {
    "collapsed": false,
    "scrolled": true
   },
   "outputs": [],
   "source": [
    "all_geo_ids = np.array(geo_id_rev.keys())\n",
    "gid_adj_dict = {key: idx for idx,key in enumerate(all_geo_ids)}\n",
    "row_list = []\n",
    "col_list = []\n",
    "data_list = []\n",
    "\n",
    "for key in geo_id_rev.keys():\n",
    "    \n",
    "    out1 = df.loc[df['GEOID102'] == key]\n",
    "    \n",
    "    \n",
    "    \n",
    "    row_list.extend(np.array(out1['GEOID101']))\n",
    "    col_list.extend(np.array(out1['GEOID102']))\n",
    "    data_list.extend(np.ones(len(out1)))\n",
    "    \n",
    "    out2 = df.loc[df['GEOID101'] == key]\n",
    "    row_list.extend(np.array(out2['GEOID101']))\n",
    "    col_list.extend(np.array(out2['GEOID102']))\n",
    "    \n",
    "\n",
    "removed_edges = [idx for idx,row in enumerate(row_list) \n",
    "                 if row not in all_geo_ids or col_list[idx] not in all_geo_ids]\n",
    "kept_edges = [idx for idx in range(len(row_list)) if idx not in removed_edges]\n",
    "    \n",
    "row_list2 = np.array([gid_adj_dict[row_list[edge]] for edge in kept_edges],dtype=np.int64)\n",
    "col_list2 = np.array([gid_adj_dict[col_list[edge]] for edge in kept_edges],dtype=np.int64)\n",
    "data_list =np.ones_like(col_list2)\n"
   ]
  },
  {
   "cell_type": "code",
   "execution_count": 13,
   "metadata": {
    "collapsed": false
   },
   "outputs": [
    {
     "name": "stdout",
     "output_type": "stream",
     "text": [
      "230\n",
      "72\n"
     ]
    }
   ],
   "source": [
    "len(row_list2)\n",
    "len(col_list2)\n",
    "print len(data_list)\n",
    "print len(all_geo_ids)"
   ]
  },
  {
   "cell_type": "code",
   "execution_count": 14,
   "metadata": {
    "collapsed": false
   },
   "outputs": [
    {
     "name": "stderr",
     "output_type": "stream",
     "text": [
      "/usr/local/lib/python2.7/dist-packages/numpy/core/fromnumeric.py:2699: VisibleDeprecationWarning: `rank` is deprecated; use the `ndim` attribute or function instead. To find the rank of a matrix see `numpy.linalg.matrix_rank`.\n",
      "  VisibleDeprecationWarning)\n"
     ]
    }
   ],
   "source": [
    "Adj_mat = coo_matrix((np.array(data_list), (row_list2, col_list2)),shape=(len(all_geo_ids),len(all_geo_ids)))\n",
    "Adj_mat = Adj_mat + Adj_mat.T/2\n",
    "\n",
    "#import matplotlib.pylab as plt\n",
    "#plt.spy(Adj_mat)\n",
    "#plt.show()\n"
   ]
  },
  {
   "cell_type": "code",
   "execution_count": 80,
   "metadata": {
    "collapsed": false
   },
   "outputs": [],
   "source": [
    "import random\n",
    "import scipy.sparse as sparse\n",
    "beta = 1\n",
    "\n",
    "\n",
    "total_pop = 100\n",
    "max_pop = np.inf\n",
    "def in_district_edges(district, adjacency_matrix, node):\n",
    "    return len(set(adjacency_matrix[node,:].nonzero()[1]).intersection(district))\n",
    "\n",
    "def update_markov_chain(cur_maps, district_pops, mcds_pops,  adjacency_matrix):\n",
    "    num_districts = len(cur_maps)\n",
    "    ideal_pop = total_pop*1.0/num_districts*np.ones([num_districts])\n",
    "    \n",
    "    assigned_mcds = [mcds for dist in cur_maps for mcds in dist]\n",
    "    \n",
    "    rand_mcds = random.choice(assigned_mcds)\n",
    "    cur_dist = [k for k in range(len(cur_maps)) if rand_mcds in cur_maps[k]][0]\n",
    "    rand_neighbor = random.choice(adjacency_matrix[rand_mcds,:].nonzero()[1])\n",
    "    \n",
    "    if rand_neighbor in assigned_mcds:\n",
    "        cur_neighbor_dist = [k for k in range(len(cur_maps)) if rand_neighbor in cur_maps[k]][0]\n",
    "        new_dist_pops = district_pops[:]\n",
    "        new_dist_pops[cur_dist] += mcds_pops[rand_neighbor]\n",
    "        \n",
    "        cur_bonds = in_district_edges(cur_maps[cur_dist], \n",
    "                                        adjacency_matrix, rand_neighbor)*1.0\n",
    "        new_bonds = in_district_edges(cur_maps[cur_neighbor_dist], adjacency_matrix, rand_neighbor)*1.0\n",
    "        if new_bonds == 0:\n",
    "            cost_switch = 1\n",
    "        else:\n",
    "            cost_switch = (\n",
    "                        np.exp(-beta*(np.linalg.norm(new_dist_pops - ideal_pop) - \n",
    "                                      np.linalg.norm(district_pops-ideal_pop))))\n",
    "        if np.random.rand() < cost_switch:\n",
    "            cur_maps[cur_neighbor_dist] = [mcds for mcds in cur_maps[cur_neighbor_dist] if mcds != rand_neighbor]\n",
    "            district_pops[cur_neighbor_dist] -= mcds_pops[rand_neighbor]\n",
    "            cur_maps[cur_dist].append(rand_neighbor)\n",
    "            district_pops[cur_dist] += mcds_pops[rand_neighbor]\n",
    "            return cur_maps, district_pops\n",
    "        else:\n",
    "            return cur_maps, district_pops\n",
    "    elif  district_pops[cur_dist] + mcds_pops[rand_neighbor] < max_pop:\n",
    "        cur_maps[cur_dist].append(rand_neighbor)\n",
    "        district_pops[cur_dist] += mcds_pops[rand_neighbor]\n",
    "        return cur_maps, district_pops\n",
    "    else:\n",
    "        return cur_maps, district_pops\n",
    "\n",
    "def run_markov_chain( cur_maps, district_pops, mcds_pops, adjacency_matrix):\n",
    "    # districts will be a list of lists (of indices) saying which MCDS belong to which list\n",
    "    # district_pops is an np.arra\n",
    "    # adjacency matrix will show the graph topology\n",
    "    num_its = 1000\n",
    "    for it in range(num_its):\n",
    "        cur_maps, district_pops = update_markov_chain(cur_maps, district_pops, mcds_pops, adjacency_matrix)\n",
    "    return cur_maps"
   ]
  },
  {
   "cell_type": "code",
   "execution_count": 81,
   "metadata": {
    "collapsed": false
   },
   "outputs": [
    {
     "name": "stdout",
     "output_type": "stream",
     "text": [
      "[[48, 68, 1, 50, 32, 47, 35, 52, 62, 20, 71, 49, 31, 41, 37, 14, 5, 53, 70, 2, 60, 10, 18], [24, 34, 45, 36, 27, 44, 61, 11, 7, 4, 9, 28, 63, 39, 21, 65, 22, 12, 42, 6, 15, 0, 51, 17, 26, 23, 30, 29, 16, 25, 55, 58, 59, 56, 66], []]\n"
     ]
    }
   ],
   "source": [
    "cur_maps = [[1, 10, 12], [4], [15]]\n",
    "district_pops = np.array([100, 100, 100])\n",
    "mcds_pops = np.random.randn((len(all_geo_ids)))\n",
    "new_maps = run_markov_chain(cur_maps, district_pops, mcds_pops, Adj_mat)\n",
    "print new_maps"
   ]
  },
  {
   "cell_type": "code",
   "execution_count": 43,
   "metadata": {
    "collapsed": false
   },
   "outputs": [
    {
     "name": "stdout",
     "output_type": "stream",
     "text": [
      "10\n",
      "52\n",
      "  (0, 35)\t2.0\n",
      "  (0, 52)\t2.0\n",
      "  (0, 60)\t2.0\n"
     ]
    },
    {
     "data": {
      "text/plain": [
       "array([12, 16, 22, 23, 30, 55, 70], dtype=int32)"
      ]
     },
     "execution_count": 43,
     "metadata": {},
     "output_type": "execute_result"
    }
   ],
   "source": [
    "print rand_mcds\n",
    "print rand_neighbor\n",
    "print Adj_mat[rand_mcds,:]\n",
    "Adj_mat[0,:].nonzero()[1]"
   ]
  },
  {
   "cell_type": "code",
   "execution_count": 45,
   "metadata": {
    "collapsed": false
   },
   "outputs": [
    {
     "data": {
      "text/plain": [
       "1"
      ]
     },
     "execution_count": 45,
     "metadata": {},
     "output_type": "execute_result"
    }
   ],
   "source": [
    "len()set(Adj_mat[0,:].nonzero()[1]).intersection(cur_maps[0])"
   ]
  },
  {
   "cell_type": "code",
   "execution_count": 51,
   "metadata": {
    "collapsed": false
   },
   "outputs": [
    {
     "data": {
      "text/plain": [
       "array([ 9, 15, 29], dtype=int32)"
      ]
     },
     "execution_count": 51,
     "metadata": {},
     "output_type": "execute_result"
    }
   ],
   "source": [
    "Adj_mat[4,:].nonzero()[1]"
   ]
  },
  {
   "cell_type": "code",
   "execution_count": 60,
   "metadata": {
    "collapsed": false
   },
   "outputs": [
    {
     "data": {
      "text/plain": [
       "[1]"
      ]
     },
     "execution_count": 60,
     "metadata": {},
     "output_type": "execute_result"
    }
   ],
   "source": [
    "np.where(rand_mcds in cur_maps)\n"
   ]
  },
  {
   "cell_type": "code",
   "execution_count": 23,
   "metadata": {
    "collapsed": false
   },
   "outputs": [
    {
     "ename": "TypeError",
     "evalue": "data type not understood",
     "output_type": "error",
     "traceback": [
      "\u001b[0;31m---------------------------------------------------------------------------\u001b[0m",
      "\u001b[0;31mTypeError\u001b[0m                                 Traceback (most recent call last)",
      "\u001b[0;32m<ipython-input-23-23bc02675a7b>\u001b[0m in \u001b[0;36m<module>\u001b[0;34m()\u001b[0m\n\u001b[0;32m----> 1\u001b[0;31m \u001b[0;32mprint\u001b[0m \u001b[0mnp\u001b[0m\u001b[0;34m.\u001b[0m\u001b[0mlinalg\u001b[0m\u001b[0;34m.\u001b[0m\u001b[0mnorm\u001b[0m\u001b[0;34m(\u001b[0m \u001b[0mnp\u001b[0m\u001b[0;34m.\u001b[0m\u001b[0marray\u001b[0m\u001b[0;34m(\u001b[0m\u001b[0;34m[\u001b[0m\u001b[0;36m30\u001b[0m\u001b[0;34m,\u001b[0m\u001b[0;36m40\u001b[0m\u001b[0;34m,\u001b[0m\u001b[0;36m20\u001b[0m\u001b[0;34m]\u001b[0m\u001b[0;34m)\u001b[0m \u001b[0;34m-\u001b[0m \u001b[0mnp\u001b[0m\u001b[0;34m.\u001b[0m\u001b[0mones\u001b[0m\u001b[0;34m(\u001b[0m\u001b[0;36m3\u001b[0m\u001b[0;34m,\u001b[0m\u001b[0;36m1\u001b[0m\u001b[0;34m)\u001b[0m\u001b[0;34m)\u001b[0m\u001b[0;34m\u001b[0m\u001b[0m\n\u001b[0m",
      "\u001b[0;32m/usr/local/lib/python2.7/dist-packages/numpy/core/numeric.pyc\u001b[0m in \u001b[0;36mones\u001b[0;34m(shape, dtype, order)\u001b[0m\n\u001b[1;32m    188\u001b[0m \u001b[0;34m\u001b[0m\u001b[0m\n\u001b[1;32m    189\u001b[0m     \"\"\"\n\u001b[0;32m--> 190\u001b[0;31m     \u001b[0ma\u001b[0m \u001b[0;34m=\u001b[0m \u001b[0mempty\u001b[0m\u001b[0;34m(\u001b[0m\u001b[0mshape\u001b[0m\u001b[0;34m,\u001b[0m \u001b[0mdtype\u001b[0m\u001b[0;34m,\u001b[0m \u001b[0morder\u001b[0m\u001b[0;34m)\u001b[0m\u001b[0;34m\u001b[0m\u001b[0m\n\u001b[0m\u001b[1;32m    191\u001b[0m     \u001b[0mmultiarray\u001b[0m\u001b[0;34m.\u001b[0m\u001b[0mcopyto\u001b[0m\u001b[0;34m(\u001b[0m\u001b[0ma\u001b[0m\u001b[0;34m,\u001b[0m \u001b[0;36m1\u001b[0m\u001b[0;34m,\u001b[0m \u001b[0mcasting\u001b[0m\u001b[0;34m=\u001b[0m\u001b[0;34m'unsafe'\u001b[0m\u001b[0;34m)\u001b[0m\u001b[0;34m\u001b[0m\u001b[0m\n\u001b[1;32m    192\u001b[0m     \u001b[0;32mreturn\u001b[0m \u001b[0ma\u001b[0m\u001b[0;34m\u001b[0m\u001b[0m\n",
      "\u001b[0;31mTypeError\u001b[0m: data type not understood"
     ]
    }
   ],
   "source": [
    "print np.linalg.norm( )"
   ]
  },
  {
   "cell_type": "code",
   "execution_count": 28,
   "metadata": {
    "collapsed": false
   },
   "outputs": [
    {
     "name": "stdout",
     "output_type": "stream",
     "text": [
      "[20 40 40]\n",
      "[1 1 1]\n"
     ]
    },
    {
     "data": {
      "text/plain": [
       "58.33523806414096"
      ]
     },
     "execution_count": 28,
     "metadata": {},
     "output_type": "execute_result"
    }
   ],
   "source": [
    "a = np.array([20,40,40])\n",
    "print a\n",
    "b = np.ones_like(a)\n",
    "print b\n",
    "np.linalg.norm(a - b)"
   ]
  },
  {
   "cell_type": "code",
   "execution_count": 30,
   "metadata": {
    "collapsed": false
   },
   "outputs": [
    {
     "data": {
      "text/plain": [
       "array([ 1.,  1.,  1.])"
      ]
     },
     "execution_count": 30,
     "metadata": {},
     "output_type": "execute_result"
    }
   ],
   "source": [
    "np.ones([3])"
   ]
  },
  {
   "cell_type": "code",
   "execution_count": 33,
   "metadata": {
    "collapsed": false
   },
   "outputs": [
    {
     "data": {
      "text/plain": [
       "0.46729786842658494"
      ]
     },
     "execution_count": 33,
     "metadata": {},
     "output_type": "execute_result"
    }
   ],
   "source": [
    "np.random.rand()"
   ]
  },
  {
   "cell_type": "code",
   "execution_count": null,
   "metadata": {
    "collapsed": true
   },
   "outputs": [],
   "source": []
  }
 ],
 "metadata": {
  "kernelspec": {
   "display_name": "Python 2",
   "language": "python",
   "name": "python2"
  },
  "language_info": {
   "codemirror_mode": {
    "name": "ipython",
    "version": 2
   },
   "file_extension": ".py",
   "mimetype": "text/x-python",
   "name": "python",
   "nbconvert_exporter": "python",
   "pygments_lexer": "ipython2",
   "version": "2.7.6"
  }
 },
 "nbformat": 4,
 "nbformat_minor": 2
}
